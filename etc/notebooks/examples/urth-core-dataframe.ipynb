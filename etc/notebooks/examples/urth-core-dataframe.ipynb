{
 "cells": [
  {
   "cell_type": "markdown",
   "metadata": {},
   "source": [
    "### urth-core-dataframe Examples"
   ]
  },
  {
   "cell_type": "markdown",
   "metadata": {},
   "source": [
    "### Initialize declarative widgets and import dependencies"
   ]
  },
  {
   "cell_type": "code",
   "execution_count": null,
   "metadata": {
    "collapsed": false
   },
   "outputs": [],
   "source": [
    "import pandas as pd\n",
    "from urth import widgets\n",
    "\n",
    "widgets.init()"
   ]
  },
  {
   "cell_type": "code",
   "execution_count": null,
   "metadata": {
    "collapsed": false
   },
   "outputs": [],
   "source": [
    "%%html\n",
    "<link rel=\"stylesheet\" type=\"text/css\" href=\"bcard.css\">"
   ]
  },
  {
   "cell_type": "markdown",
   "metadata": {},
   "source": [
    "### Example 1 - Accessing the data"
   ]
  },
  {
   "cell_type": "markdown",
   "metadata": {},
   "source": [
    "Initial DataFrame:"
   ]
  },
  {
   "cell_type": "code",
   "execution_count": null,
   "metadata": {
    "collapsed": false
   },
   "outputs": [],
   "source": [
    "aDataFrame1 = pd.DataFrame([\n",
    "        [\"A\", 1],\n",
    "        [\"B\", 2]\n",
    "    ], columns=[\"Letter\", \"Number\"]\n",
    ")"
   ]
  },
  {
   "cell_type": "markdown",
   "metadata": {},
   "source": [
    "#### Example 1.a Accessing the data using the `value` property"
   ]
  },
  {
   "cell_type": "code",
   "execution_count": null,
   "metadata": {
    "collapsed": false
   },
   "outputs": [],
   "source": [
    "%%html\n",
    "<template is=\"dom-bind\">\n",
    "    <urth-core-dataframe ref=\"aDataFrame1\" value=\"{{x}}\"></urth-core-dataframe>\n",
    "    <h4>{{x.columns}}</h4>\n",
    "    <template is=\"dom-repeat\" items=\"{{x.data}}\">\n",
    "        <div>{{item.0}}, {{item.1}}</div>\n",
    "    </template>\n",
    "</template>"
   ]
  },
  {
   "cell_type": "markdown",
   "metadata": {},
   "source": [
    "#### Example 1.b Accessing the data using the `rows` and `columns` properties"
   ]
  },
  {
   "cell_type": "code",
   "execution_count": null,
   "metadata": {
    "collapsed": false
   },
   "outputs": [],
   "source": [
    "%%html\n",
    "<template is=\"dom-bind\">\n",
    "    <urth-core-dataframe ref=\"aDataFrame1\" rows=\"{{r}}\" columns=\"{{c}}\"></urth-core-dataframe>\n",
    "    <h4>{{c}}</h4>\n",
    "    <template is=\"dom-repeat\" items=\"{{r}}\">\n",
    "        <div>{{item.0}}, {{item.1}}</div>\n",
    "    </template>\n",
    "</template>"
   ]
  },
  {
   "cell_type": "markdown",
   "metadata": {},
   "source": [
    "#### Example 1.c Accessing the data using the `rows` property and setting `row-as-object`"
   ]
  },
  {
   "cell_type": "code",
   "execution_count": null,
   "metadata": {
    "collapsed": false
   },
   "outputs": [],
   "source": [
    "%%html\n",
    "<template is=\"dom-bind\">\n",
    "    <urth-core-dataframe ref=\"aDataFrame1\" rows=\"{{r}}\" columns=\"{{c}}\" row-as-object></urth-core-dataframe>\n",
    "    <h4>{{c}}</h4>\n",
    "    <template is=\"dom-repeat\" items=\"{{r}}\">\n",
    "        <div>{{item.Letter}}, {{item.Number}}</div>\n",
    "    </template>\n",
    "</template>"
   ]
  },
  {
   "cell_type": "markdown",
   "metadata": {},
   "source": [
    "### Example 2 - Getting data updates\n",
    "`urth-core-dataframe` has several ways of staying up to date to changes to the DataFrame in the kernel"
   ]
  },
  {
   "cell_type": "markdown",
   "metadata": {},
   "source": [
    "#### Example 2a - Manual refresh using a button\n",
    "Note that the `auto` property is not active."
   ]
  },
  {
   "cell_type": "code",
   "execution_count": null,
   "metadata": {
    "collapsed": false
   },
   "outputs": [],
   "source": [
    "%%html\n",
    "<template is=\"dom-bind\">\n",
    "    <urth-core-dataframe id=\"df2a\" ref=\"aDataFrame1\" value=\"{{x}}\"></urth-core-dataframe>\n",
    "    <h4>{{x.columns}}</h4>\n",
    "    <template is=\"dom-repeat\" items=\"{{x.data}}\">\n",
    "        <div>{{item.0}}, {{item.1}}</div>\n",
    "    </template>\n",
    "    <button onClick=\"$('#df2a').get(0).refresh()\">refresh</button>\n",
    "</template>"
   ]
  },
  {
   "cell_type": "markdown",
   "metadata": {},
   "source": [
    "Update the DataFrame by running the next cell, then press `refresh`:"
   ]
  },
  {
   "cell_type": "code",
   "execution_count": null,
   "metadata": {
    "collapsed": true
   },
   "outputs": [],
   "source": [
    "aDataFrame1 = pd.DataFrame([\n",
    "        [\"C\", 1],\n",
    "        [\"D\", 2]\n",
    "    ], columns=[\"Letter\", \"Number\"]\n",
    ")"
   ]
  },
  {
   "cell_type": "markdown",
   "metadata": {},
   "source": [
    "#### Example 2b - Automatic refresh using `auto` property"
   ]
  },
  {
   "cell_type": "markdown",
   "metadata": {},
   "source": [
    "Initial DataFrame:"
   ]
  },
  {
   "cell_type": "code",
   "execution_count": null,
   "metadata": {
    "collapsed": true
   },
   "outputs": [],
   "source": [
    "aDataFrame2 = pd.DataFrame([\n",
    "        [\"A\", 1],\n",
    "        [\"B\", 2]\n",
    "    ], columns=[\"Letter\", \"Number\"]\n",
    ")"
   ]
  },
  {
   "cell_type": "code",
   "execution_count": null,
   "metadata": {
    "collapsed": false
   },
   "outputs": [],
   "source": [
    "%%html\n",
    "<template is=\"dom-bind\">\n",
    "    <urth-core-dataframe ref=\"aDataFrame2\" value=\"{{x}}\" auto></urth-core-dataframe>\n",
    "    <h4>{{x.columns}}</h4>\n",
    "    <template is=\"dom-repeat\" items=\"{{x.data}}\">\n",
    "        <div>{{item.0}}, {{item.1}}</div>\n",
    "    </template>\n",
    "</template>"
   ]
  },
  {
   "cell_type": "markdown",
   "metadata": {},
   "source": [
    "Update the DataFrame by running the next cell. The changes will update automatically:"
   ]
  },
  {
   "cell_type": "code",
   "execution_count": null,
   "metadata": {
    "collapsed": true
   },
   "outputs": [],
   "source": [
    "aDataFrame2 = pd.DataFrame([\n",
    "        [\"C\", 1],\n",
    "        [\"D\", 2]\n",
    "    ], columns=[\"Letter\", \"Number\"]\n",
    ")"
   ]
  },
  {
   "cell_type": "markdown",
   "metadata": {
    "collapsed": true
   },
   "source": [
    "### Example 3 - Connecting to Spark DataFrames\n",
    "urth-core-dataframe also supports Spark DataFrames"
   ]
  },
  {
   "cell_type": "code",
   "execution_count": null,
   "metadata": {
    "collapsed": false
   },
   "outputs": [],
   "source": [
    "import pyspark\n",
    "sc = pyspark.SparkContext('local[*]')\n",
    "sqlContext = pyspark.SQLContext(sc)"
   ]
  },
  {
   "cell_type": "code",
   "execution_count": null,
   "metadata": {
    "collapsed": false
   },
   "outputs": [],
   "source": [
    "sparkDataFrame = sqlContext.createDataFrame(pd.DataFrame([\n",
    "        [\"Jane\", \"Doe\",\"Scala Developer\", \"jane@ibm.com\", \"123-432-5431\", \"http://www.ibm.com/jane\"], \n",
    "        [\"John\", \"Doe\",\"Spark Engineer\", \"john@ibm.com\", \"143-421-5411\", \"http://www.ibm.com/john\"],\n",
    "        [\"Joe\", \"Smith\",\"Product Manager\", \"joe@ibm.com\", \"123-732-8421\", \"http://www.ibm.com/joe\"]\n",
    "    ], columns=[\"First Name\", \"Last Name\", \"Role\", \"Email\", \"Phone Number\", \"Website\"]\n",
    "))"
   ]
  },
  {
   "cell_type": "code",
   "execution_count": null,
   "metadata": {
    "collapsed": false
   },
   "outputs": [],
   "source": [
    "%%html\n",
    "<template is=\"dom-bind\">\n",
    "    <urth-core-dataframe ref=\"sparkDataFrame\" value=\"{{x}}\" auto></urth-core-dataframe>\n",
    "    \n",
    "    <template is=\"dom-repeat\" items=\"{{x.data}}\">\n",
    "      <div class=\"bcard\">\n",
    "        <div class=\"info\">\n",
    "            <div class=\"line full-name\"><span>{{item.0}}</span> <span>{{item.1}}</span></div>\n",
    "            <span class=\"line title\">{{item.2}}</span>\n",
    "            <span class=\"line phone-number\">{{item.3}}</span>\n",
    "            <span class=\"line email\">{{item.4}}</span>\n",
    "            <span class=\"line website\">{{item.5}}</span>\n",
    "        </div>\n",
    "        <div class=\"logo\"></div>\n",
    "      </div>\n",
    "    </template>\n",
    "</template>"
   ]
  },
  {
   "cell_type": "markdown",
   "metadata": {},
   "source": [
    "### Example 4 - Limiting data\n",
    "The `limit` attribute allows you to control how much data to bring into the browser"
   ]
  },
  {
   "cell_type": "code",
   "execution_count": null,
   "metadata": {
    "collapsed": false
   },
   "outputs": [],
   "source": [
    "t = pd.DataFrame(list(range(1000)))\n",
    "largeDataFrame = sqlContext.createDataFrame(t)"
   ]
  },
  {
   "cell_type": "code",
   "execution_count": null,
   "metadata": {
    "collapsed": false
   },
   "outputs": [],
   "source": [
    "%%html\n",
    "<template is=\"dom-bind\">\n",
    "    <urth-core-dataframe ref=\"largeDataFrame\" limit=\"5\" value=\"{{x}}\"></urth-core-dataframe>\n",
    "    <h4>{{x.columns}}</h4>\n",
    "    <template is=\"dom-repeat\" items=\"{{x.data}}\">\n",
    "        <div>{{item.0}}</div>\n",
    "    </template>\n",
    "</template>"
   ]
  },
  {
   "cell_type": "markdown",
   "metadata": {},
   "source": [
    "### Example 5 - Displaying DataFrames\n",
    "A more complex example showing a custom rendering. Note that `auto` is active, so if you make changes to `aDataFrame3` by executing a cell, the cards will update automatically."
   ]
  },
  {
   "cell_type": "code",
   "execution_count": null,
   "metadata": {
    "collapsed": false
   },
   "outputs": [],
   "source": [
    "import pandas as pd\n",
    "aDataFrame3 = pd.DataFrame([\n",
    "        [\"Jane\", \"Doe\",\"Pandas Guru\", \"jane@ibm.com\", \"123-432-5431\", \"http://www.ibm.com/jane\"], \n",
    "        [\"John\", \"Doe\",\"Software Engineer\", \"john@ibm.com\", \"143-421-5411\", \"http://www.ibm.com/john\"],\n",
    "        [\"Joe\", \"Smith\",\"Product Manager\", \"joe@ibm.com\", \"123-732-8421\", \"http://www.ibm.com/joe\"]\n",
    "    ], columns=[\"First_Name\", \"Last_Name\", \"Role\", \"Email\", \"Phone_Number\", \"Website\"]\n",
    ")"
   ]
  },
  {
   "cell_type": "code",
   "execution_count": null,
   "metadata": {
    "collapsed": false
   },
   "outputs": [],
   "source": [
    "%%html\n",
    "<template is=\"dom-bind\">\n",
    "\n",
    "    <urth-core-dataframe ref=\"aDataFrame3\" rows=\"{{r}}\" row-as-object auto></urth-core-dataframe>\n",
    "\n",
    "    <template id=\"test\" is=\"dom-repeat\" items=\"{{r}}\">\n",
    "      <div class=\"bcard\">\n",
    "        <div class=\"info\">\n",
    "            <div class=\"line full-name\"><span>{{item.First_Name}}</span> <span>{{item.Last_Name}}</span></div>\n",
    "            <span class=\"line title\">{{item.Role}}</span>\n",
    "            <span class=\"line phone-number\">{{item.Phone_Number}}</span>\n",
    "            <span class=\"line email\">{{item.Email}}</span>\n",
    "            <span class=\"line website\">{{item.Website}}</span>\n",
    "        </div>\n",
    "        <div class=\"logo\"></div>\n",
    "      </div>\n",
    "    </template>\n",
    "    \n",
    "</template>\n"
   ]
  },
  {
   "cell_type": "markdown",
   "metadata": {},
   "source": [
    "### Example 6 - Debugging DataFrames\n",
    "Sometimes, you just need a quick way to debug a DataFrame to see what it contains. Use the `debug` property to have the element display a simple table. This is particularly useful when query support show in [urth-core-query.ipynb](urth-core-query.ipynb)."
   ]
  },
  {
   "cell_type": "code",
   "execution_count": null,
   "metadata": {
    "collapsed": false
   },
   "outputs": [],
   "source": [
    "%%html\n",
    "<urth-core-dataframe ref=\"aDataFrame3\" debug></urth-core-dataframe>"
   ]
  }
 ],
 "metadata": {
  "kernelspec": {
   "display_name": "Python 3",
   "language": "python",
   "name": "python3"
  },
  "language_info": {
   "codemirror_mode": {
    "name": "ipython",
    "version": 3
   },
   "file_extension": ".py",
   "mimetype": "text/x-python",
   "name": "python",
   "nbconvert_exporter": "python",
   "pygments_lexer": "ipython3",
   "version": "3.5.1"
  }
 },
 "nbformat": 4,
 "nbformat_minor": 0
}
