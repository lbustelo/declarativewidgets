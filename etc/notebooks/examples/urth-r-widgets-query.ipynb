{
 "cells": [
  {
   "cell_type": "markdown",
   "metadata": {},
   "source": [
    "### Initialize Declarativewidgets"
   ]
  },
  {
   "cell_type": "code",
   "execution_count": null,
   "metadata": {
    "collapsed": true
   },
   "outputs": [],
   "source": [
    "library(\"declarativewidgets\")"
   ]
  },
  {
   "cell_type": "code",
   "execution_count": null,
   "metadata": {
    "collapsed": false
   },
   "outputs": [],
   "source": [
    "initWidgets()"
   ]
  },
  {
   "cell_type": "markdown",
   "metadata": {},
   "source": [
    "Import Polymer elements:"
   ]
  },
  {
   "cell_type": "code",
   "execution_count": null,
   "metadata": {
    "collapsed": false
   },
   "outputs": [],
   "source": [
    "IRdisplay::display_html(\"\n",
    "<link rel='import' href='urth_components/paper-slider/paper-slider.html'\n",
    "        is='urth-core-import' package='PolymerElements/paper-slider'>\n",
    "<link rel='import' href='urth_components/urth-viz-table/urth-viz-table.html'\n",
    "        is='urth-core-import'>\n",
    "<link rel='stylesheet' type='text/css' href='bcard.css'>\n",
    "<link rel='import' href='urth_components/urth-viz-pie/urth-viz-pie.html' \n",
    "        is='urth-core-import'>\n",
    "<link rel='import' href='urth_components/urth-viz-table/urth-viz-table.html' \n",
    "        is='urth-core-import'>\n",
    "<link rel='import' href='urth_components/urth-viz-bar/urth-viz-bar.html' \n",
    "        is='urth-core-import'>\n",
    "<link rel='import' href='urth_components/urth-viz-explorer/urth-viz-explorer.html' \n",
    "        is='urth-core-import'>\n",
    "<link rel='import' href='urth_components/paper-input/paper-input.html' \n",
    "        is='urth-core-import' package='PolymerElements/paper-input'>\n",
    "<link rel='import' href='urth_components/paper-spinner/paper-spinner.html' \n",
    "        is='urth-core-import' package='PolymerElements/paper-spinner'>\n",
    "\")"
   ]
  },
  {
   "cell_type": "markdown",
   "metadata": {},
   "source": [
    "### DataFrame Widget Query"
   ]
  },
  {
   "cell_type": "code",
   "execution_count": null,
   "metadata": {
    "collapsed": false
   },
   "outputs": [],
   "source": [
    "fares <- read.csv(\"../demos/tour/fares.csv\")\n",
    "colnames(fares)"
   ]
  },
  {
   "cell_type": "code",
   "execution_count": null,
   "metadata": {
    "collapsed": false
   },
   "outputs": [],
   "source": [
    "IRdisplay::display_html(\"\n",
    "<template id='t' is='dom-bind'>\n",
    "    <urth-core-dataframe id='d' ref='fares' value='{{df}}'>\n",
    "        <urth-core-query-filter disabled='{{!vid}}'>vendor_id == '{{vid}}'</urth-core-query-filter>\n",
    "        <urth-core-query-filter disabled='{{!ptype}}'>payment_type == '{{ptype}}'</urth-core-query-filter>\n",
    "        <urth-core-query-group by='{{gCol}}'>\n",
    "            <urth-core-query-agg op='sum' col='fare_amount'></urth-core-query-agg>\n",
    "            <urth-core-query-agg op='mean' col='fare_amount'></urth-core-query-agg>\n",
    "            <urth-core-query-agg op='mean' col='tolls_amount''></urth-core-query-agg>\n",
    "            <urth-core-query-agg op='sum' col='tolls_amount'></urth-core-query-agg>\n",
    "        </urth-core-query-group>\n",
    "    <urth-core-query-sort by='fare_amount' direction='{{topOrBottom}}'></urth-core-query-sort>\n",
    "    </urth-core-dataframe>\n",
    "    <paper-input label='By' value='{{gCol}}'></paper-input>\n",
    "    <paper-input label='Vendor ID' value='{{vid}}'></paper-input>\n",
    "    <paper-input label='Payment Type' value='{{ptype}}'></paper-input>\n",
    "    <paper-dropdown-menu label='Top or Bottom Fare Amounts' noink>\n",
    "        <paper-menu class='dropdown-content' selected='{{topOrBottom}}' attr-for-selected='value'>\n",
    "            <paper-item value='desc'>Top</paper-item>\n",
    "            <paper-item value='asc'>Bottom</paper-item>\n",
    "        </paper-menu>\n",
    "    </paper-dropdown-menu>\n",
    "    <urth-viz-table datarows='{{df.data}}' columns='{{df.columns}}'></urth-viz-table>\n",
    "    <urth-viz-bar datarows='{{df.data}}'></urth-viz-bar>\n",
    "</template>\n",
    "\")"
   ]
  },
  {
   "cell_type": "markdown",
   "metadata": {},
   "source": [
    "### Spark DataFrame Widget Query"
   ]
  },
  {
   "cell_type": "code",
   "execution_count": null,
   "metadata": {
    "collapsed": false
   },
   "outputs": [],
   "source": [
    "library(SparkR)\n",
    "sc <- sparkR.init()\n",
    "sqlContext <- sparkRSQL.init(sc)"
   ]
  },
  {
   "cell_type": "code",
   "execution_count": null,
   "metadata": {
    "collapsed": true
   },
   "outputs": [],
   "source": [
    "sparkFares <- createDataFrame(sqlContext, fares)"
   ]
  },
  {
   "cell_type": "code",
   "execution_count": null,
   "metadata": {
    "collapsed": false
   },
   "outputs": [],
   "source": [
    "IRdisplay::display_html(\"\n",
    "<template id='t' is='dom-bind'>\n",
    "    <urth-core-dataframe id='d' ref='sparkFares' value='{{df}}'>\n",
    "        <urth-core-query-filter disabled='{{!vid}}'>vendor_id = '{{vid}}'</urth-core-query-filter>\n",
    "        <urth-core-query-filter disabled='{{!ptype}}'>payment_type = '{{ptype}}'</urth-core-query-filter>\n",
    "        <urth-core-query-group by='{{gCol}}'>\n",
    "            <urth-core-query-agg op='sum' col='fare_amount'></urth-core-query-agg>\n",
    "            <urth-core-query-agg op='mean' col='fare_amount'></urth-core-query-agg>\n",
    "            <urth-core-query-agg op='mean' col='tolls_amount''></urth-core-query-agg>\n",
    "            <urth-core-query-agg op='sum' col='tolls_amount'></urth-core-query-agg>\n",
    "        </urth-core-query-group>\n",
    "    <urth-core-query-sort by='fare_amount' direction='{{topOrBottom}}'></urth-core-query-sort>\n",
    "    </urth-core-dataframe>\n",
    "    <paper-input label='By' value='{{gCol}}'></paper-input>\n",
    "    <paper-input label='Vendor ID' value='{{vid}}'></paper-input>\n",
    "    <paper-input label='Payment Type' value='{{ptype}}'></paper-input>\n",
    "    <paper-dropdown-menu label='Top or Bottom Fare Amounts' noink>\n",
    "        <paper-menu class='dropdown-content' selected='{{topOrBottom}}' attr-for-selected='value'>\n",
    "            <paper-item value='desc'>Top</paper-item>\n",
    "            <paper-item value='asc'>Bottom</paper-item>\n",
    "        </paper-menu>\n",
    "    </paper-dropdown-menu>\n",
    "    <urth-viz-table datarows='{{df.data}}' columns='{{df.columns}}'></urth-viz-table>\n",
    "    <urth-viz-bar datarows='{{df.data}}'></urth-viz-bar>\n",
    "</template>\n",
    "\")"
   ]
  }
 ],
 "metadata": {
  "kernelspec": {
   "display_name": "R",
   "language": "R",
   "name": "ir"
  },
  "language_info": {
   "codemirror_mode": "r",
   "file_extension": ".r",
   "mimetype": "text/x-r-source",
   "name": "R",
   "pygments_lexer": "r",
   "version": "3.2.2"
  }
 },
 "nbformat": 4,
 "nbformat_minor": 0
}
