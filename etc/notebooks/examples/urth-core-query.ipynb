{
 "cells": [
  {
   "cell_type": "code",
   "execution_count": null,
   "metadata": {
    "collapsed": false,
    "scrolled": true
   },
   "outputs": [],
   "source": [
    "%%html\n",
    "<link rel=\"import\" href=\"urth_components/urth-viz-table/urth-viz-table.html\" is=\"urth-core-import\">\n",
    "<link rel=\"import\" href=\"urth_components/urth-viz-bar/urth-viz-bar.html\" is=\"urth-core-import\">\n",
    "<link rel=\"import\" href=\"urth_components/urth-viz-explorer/urth-viz-explorer.html\" is=\"urth-core-import\">\n",
    "<link rel=\"import\" href=\"urth_components/paper-input/paper-input.html\" is='urth-core-import' package='PolymerElements/paper-input'>\n",
    "<link rel=\"import\" href=\"urth_components/paper-spinner/paper-spinner.html\" is='urth-core-import' package='PolymerElements/paper-spinner'>"
   ]
  },
  {
   "cell_type": "markdown",
   "metadata": {},
   "source": [
    "#### Pandas DataFrame"
   ]
  },
  {
   "cell_type": "code",
   "execution_count": null,
   "metadata": {
    "collapsed": false,
    "scrolled": true
   },
   "outputs": [],
   "source": [
    "import pandas as pd"
   ]
  },
  {
   "cell_type": "code",
   "execution_count": null,
   "metadata": {
    "collapsed": false,
    "scrolled": true
   },
   "outputs": [],
   "source": [
    "fares = pd.read_csv('../demos/tour/fares.csv')\n",
    "fares.columns = fares.columns.map(lambda x: x.strip())\n",
    "fares.columns"
   ]
  },
  {
   "cell_type": "code",
   "execution_count": null,
   "metadata": {
    "collapsed": false,
    "scrolled": false
   },
   "outputs": [],
   "source": [
    "%%html\n",
    "<template id=\"t\" is=\"dom-bind\">\n",
    "    <urth-core-dataframe id=\"d\" ref=\"fares\" value=\"{{df}}\">\n",
    "        <urth-core-query-filter disabled=\"{{!vid}}\">vendor_id == '{{vid}}'</urth-core-query-filter>\n",
    "        <urth-core-query-filter disabled=\"{{!ptype}}\">payment_type == '{{ptype}}'</urth-core-query-filter>\n",
    "        <urth-core-query-group by=\"{{gCol}}\">\n",
    "            <urth-core-query-agg op=\"sum\" col=\"fare_amount\"></urth-core-query-agg>\n",
    "            <urth-core-query-agg op=\"mean\" col=\"fare_amount\"></urth-core-query-agg>\n",
    "            <urth-core-query-agg op=\"mean\" col=\"tolls_amount\"></urth-core-query-agg>\n",
    "            <urth-core-query-agg op=\"sum\" col=\"tolls_amount\"></urth-core-query-agg>\n",
    "        </urth-core-query-group>\n",
    "    </urth-core-dataframe>\n",
    "    <paper-input label=\"By\" value=\"{{gCol}}\"></paper-input>\n",
    "    <paper-input label=\"Vendor ID\" value=\"{{vid}}\"></paper-input>\n",
    "    <paper-input label=\"Payment Type\" value=\"{{ptype}}\"></paper-input>\n",
    "    <urth-viz-table datarows=\"{{df.data}}\" columns=\"{{df.columns}}\"></urth-viz-table>\n",
    "    <urth-viz-bar datarows=\"{{df.data}}\"></urth-viz-bar>\n",
    "</template>"
   ]
  },
  {
   "cell_type": "markdown",
   "metadata": {},
   "source": [
    "#### PySpark DataFrame"
   ]
  },
  {
   "cell_type": "code",
   "execution_count": null,
   "metadata": {
    "collapsed": false
   },
   "outputs": [],
   "source": [
    "import pyspark\n",
    "sc = pyspark.SparkContext('local[*]')\n",
    "sqlContext = pyspark.SQLContext(sc)"
   ]
  },
  {
   "cell_type": "code",
   "execution_count": null,
   "metadata": {
    "collapsed": false
   },
   "outputs": [],
   "source": [
    "spark_fares = sqlContext.createDataFrame(fares)"
   ]
  },
  {
   "cell_type": "code",
   "execution_count": null,
   "metadata": {
    "collapsed": false,
    "scrolled": false
   },
   "outputs": [],
   "source": [
    "%%html\n",
    "<template id=\"t\" is=\"dom-bind\">\n",
    "    <urth-core-dataframe id=\"d\" ref=\"spark_fares\" value=\"{{df}}\" busy=\"{{busy}}\">\n",
    "        <urth-core-query-filter disabled=\"{{!vid}}\">vendor_id = '{{vid}}'</urth-core-query-filter>\n",
    "        <urth-core-query-filter disabled=\"{{!ptype}}\">payment_type = '{{ptype}}'</urth-core-query-filter>\n",
    "        <urth-core-query-group by=\"{{gCol}}\">\n",
    "            <urth-core-query-agg op=\"sum\" col=\"fare_amount\"></urth-core-query-agg>\n",
    "            <urth-core-query-agg op=\"mean\" col=\"fare_amount\"></urth-core-query-agg>\n",
    "            <urth-core-query-agg op=\"mean\" col=\"tolls_amount\"></urth-core-query-agg>\n",
    "            <urth-core-query-agg op=\"sum\" col=\"tolls_amount\"></urth-core-query-agg>\n",
    "        </urth-core-query-group>\n",
    "    </urth-core-dataframe>\n",
    "    <paper-input label=\"By\" value=\"{{gCol}}\"></paper-input>\n",
    "    <paper-input label=\"Vendor ID\" value=\"{{vid}}\"></paper-input>\n",
    "    <paper-input label=\"Payment Type\" value=\"{{ptype}}\"></paper-input>\n",
    "    <paper-spinner active=\"{{busy}}\"></paper-spinner>\n",
    "    <urth-viz-table datarows=\"{{df.data}}\" columns=\"{{df.columns}}\"></urth-viz-table>\n",
    "    <urth-viz-bar datarows=\"{{df.data}}\"></urth-viz-bar>\n",
    "</template>"
   ]
  },
  {
   "cell_type": "markdown",
   "metadata": {},
   "source": [
    "#### Using urth-viz-explorer"
   ]
  },
  {
   "cell_type": "code",
   "execution_count": null,
   "metadata": {
    "collapsed": false
   },
   "outputs": [],
   "source": [
    "%%html\n",
    "<template is=\"dom-bind\">\n",
    "    <paper-input label=\"By\" value=\"{{gCol}}\"></paper-input>\n",
    "    <paper-input label=\"Vendor ID\" value=\"{{vid}}\"></paper-input>\n",
    "    <paper-input label=\"Payment Type\" value=\"{{ptype}}\"></paper-input>\n",
    "    <paper-spinner style=\"float:right;\" active=\"{{busy}}\"></paper-spinner>\n",
    "    <urth-viz-explorer>\n",
    "        <urth-core-dataframe id=\"d\" ref=\"fares\" busy=\"{{busy}}\">\n",
    "            <urth-core-query-filter disabled=\"{{!vid}}\">vendor_id == '{{vid}}'</urth-core-query-filter>\n",
    "            <urth-core-query-filter disabled=\"{{!ptype}}\">payment_type == '{{ptype}}'</urth-core-query-filter>\n",
    "            <urth-core-query-group by=\"{{gCol}}\">\n",
    "                <urth-core-query-agg op=\"sum\" col=\"fare_amount\"></urth-core-query-agg>\n",
    "                <urth-core-query-agg op=\"mean\" col=\"fare_amount\"></urth-core-query-agg>\n",
    "                <urth-core-query-agg op=\"mean\" col=\"tolls_amount\"></urth-core-query-agg>\n",
    "                <urth-core-query-agg op=\"sum\" col=\"tolls_amount\"></urth-core-query-agg>\n",
    "            </urth-core-query-group>\n",
    "        </urth-core-dataframe>\n",
    "    </urth-viz-explorer>\n",
    "</template>"
   ]
  },
  {
   "cell_type": "markdown",
   "metadata": {},
   "source": [
    "#### Taxi demo reworked"
   ]
  },
  {
   "cell_type": "code",
   "execution_count": null,
   "metadata": {
    "collapsed": false
   },
   "outputs": [],
   "source": [
    "%%html\n",
    "<link rel=\"import\" href=\"urth_components/paper-dropdown-menu/paper-dropdown-menu.html\" is='urth-core-import' package='PolymerElements/paper-dropdown-menu'>\n",
    "<link rel=\"import\" href=\"urth_components/paper-menu/paper-menu.html\" is='urth-core-import' package='PolymerElements/paper-menu'>\n",
    "<link rel=\"import\" href=\"urth_components/paper-item/paper-item.html\" is='urth-core-import' package='PolymerElements/paper-item'>\n",
    "<link rel=\"import\" href=\"urth_components/paper-button/paper-button.html\" is='urth-core-import' package='PolymerElements/paper-button'>\n",
    "<link rel=\"import\" href=\"urth_components/paper-card/paper-card.html\" is='urth-core-import' package='PolymerElements/paper-card'>\n",
    "<link rel=\"import\" href=\"urth_components/paper-slider/paper-slider.html\" is='urth-core-import' package='PolymerElements/paper-slider'>\n",
    "\n",
    "<style is=\"custom-style\">\n",
    "    urth-viz-chart::shadow .nv-x .tick text {\n",
    "        display: none;\n",
    "    }\n",
    "</style>"
   ]
  },
  {
   "cell_type": "code",
   "execution_count": null,
   "metadata": {
    "collapsed": false
   },
   "outputs": [],
   "source": [
    "from urth.widgets.widget_channels import channel\n",
    "channel(\"faresChan\").set(\"paymentOptions\", [[\"All\", \"\"], [\"Cash\", \"CSH\"], [\"Credit\",\"CRD\"]])"
   ]
  },
  {
   "cell_type": "code",
   "execution_count": null,
   "metadata": {
    "collapsed": false
   },
   "outputs": [],
   "source": [
    "%%html\n",
    "<template id=\"earnings\" is=\"urth-core-bind\" channel=\"faresChan\">\n",
    "    <urth-core-dataframe id=\"df\" ref=\"fares\" value=\"{{top}}\" limit=\"{{limit}}\" busy=\"{{busy}}\">\n",
    "        <urth-core-query-filter disabled=\"{{!payType}}\">payment_type == '{{payType}}'</urth-core-query-filter>\n",
    "        <urth-core-query-group by=\"medallion\">\n",
    "            <urth-core-query-agg op=\"sum\" col=\"total_amount\"></urth-core-query-agg>\n",
    "        </urth-core-query-group>\n",
    "        <urth-core-query-sort by=\"total_amount_sum\" direction=\"{{topOrBottom}}\"></urth-core-query-sort>\n",
    "    </urth-core-dataframe>\n",
    "    <paper-card style=\"width: 100%;\" heading=\"Earners\" elevation=\"1\">\n",
    "        <div class=\"card-content\">\n",
    "            <paper-spinner style=\"float:right;\" active=\"{{busy}}\"></paper-spinner>\n",
    "            <paper-dropdown-menu label=\"Select Payment Type\" noink>\n",
    "                <paper-menu class=\"dropdown-content\" selected=\"{{payType}}\" attr-for-selected=\"value\">\n",
    "                    <template is=\"dom-repeat\" items=\"[[paymentOptions]]\">\n",
    "                        <paper-item value=\"[[item.1]]\">[[item.0]]</paper-item>\n",
    "                    </template>\n",
    "                </paper-menu>\n",
    "            </paper-dropdown-menu>\n",
    "            <paper-dropdown-menu label=\"Top or Bottom Earners\" noink>\n",
    "                <paper-menu class=\"dropdown-content\" selected=\"{{topOrBottom}}\" attr-for-selected=\"value\">\n",
    "                    <paper-item value=\"desc\">Top</paper-item>\n",
    "                    <paper-item value=\"asc\">Bottom</paper-item>\n",
    "                </paper-menu>\n",
    "            </paper-dropdown-menu>\n",
    "\n",
    "            <urth-viz-chart type='bar' datarows='{{top.data}}' columns='{{top.columns}}' selection=\"{{sel}}\" multi-select></urth-viz-chart>\n",
    "            <div class=\"center horizontal layout\">\n",
    "                <div>Limit</div>\n",
    "                <paper-slider min=\"5\" max=\"50\" step=\"5\" pin snap value=\"{{limit}}\"></paper-slider>\n",
    "            </div>\n",
    "        </div>\n",
    "    </paper-card>\n",
    "</template>"
   ]
  }
 ],
 "metadata": {
  "kernelspec": {
   "display_name": "Python 3",
   "language": "python",
   "name": "python3"
  },
  "language_info": {
   "codemirror_mode": {
    "name": "ipython",
    "version": 3
   },
   "file_extension": ".py",
   "mimetype": "text/x-python",
   "name": "python",
   "nbconvert_exporter": "python",
   "pygments_lexer": "ipython3",
   "version": "3.5.1"
  },
  "widgets": {
   "state": {
    "40F0A6F89A1D4A9B8E2DA23F9580F081": {
     "views": []
    },
    "84961FAD9D994D1084A2A76A6F6D83D7": {
     "views": []
    },
    "992914FAAED24A3486E3623D91571A25": {
     "views": []
    },
    "A5D18E9723A74A63BB990FE9B53A21BA": {
     "views": []
    },
    "AA15BD4995344262A1181704CD6AE239": {
     "views": []
    },
    "E523A5774B044643981D637C8424E6C4": {
     "views": []
    }
   },
   "version": "1.1.0"
  }
 },
 "nbformat": 4,
 "nbformat_minor": 0
}
