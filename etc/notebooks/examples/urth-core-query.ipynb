{
 "cells": [
  {
   "cell_type": "code",
   "execution_count": null,
   "metadata": {
    "collapsed": false,
    "scrolled": true
   },
   "outputs": [],
   "source": [
    "%%html\n",
    "<link rel=\"import\" href=\"urth_components/urth-viz-table/urth-viz-table.html\" is=\"urth-core-import\">\n",
    "<link rel=\"import\" href=\"urth_components/urth-viz-bar/urth-viz-bar.html\" is=\"urth-core-import\">\n",
    "<link rel=\"import\" href=\"urth_components/paper-input/paper-input.html\" is='urth-core-import' package='PolymerElements/paper-input'>"
   ]
  },
  {
   "cell_type": "code",
   "execution_count": null,
   "metadata": {
    "collapsed": false,
    "scrolled": true
   },
   "outputs": [],
   "source": [
    "import pandas as pd"
   ]
  },
  {
   "cell_type": "code",
   "execution_count": null,
   "metadata": {
    "collapsed": false,
    "scrolled": true
   },
   "outputs": [],
   "source": [
    "fares = pd.read_csv('../demos/tour/fares.csv')\n",
    "fares.columns = fares.columns.map(lambda x: x.strip())\n",
    "fares.columns"
   ]
  },
  {
   "cell_type": "code",
   "execution_count": null,
   "metadata": {
    "collapsed": false
   },
   "outputs": [],
   "source": [
    "%%html\n",
    "<template id=\"t\" is=\"dom-bind\">\n",
    "    <urth-core-dataframe id=\"d\" ref=\"fares\" value=\"{{df}}\">\n",
    "        <urth-core-query-filter disabled=\"{{!vid}}\">vendor_id == '{{vid}}'</urth-core-query-filter>\n",
    "        <urth-core-query-filter disabled=\"{{!ptype}}\">payment_type == '{{ptype}}'</urth-core-query-filter>\n",
    "        <urth-core-query-group by=\"{{gCol}}\">\n",
    "            <urth-core-query-agg op=\"sum\" col=\"fare_amount\"></urth-core-query-agg>\n",
    "            <urth-core-query-agg op=\"mean\" col=\"fare_amount\"></urth-core-query-agg>\n",
    "            <urth-core-query-agg op=\"mean\" col=\"tolls_amount\"></urth-core-query-agg>\n",
    "        </urth-core-query>\n",
    "    </urth-core-dataframe>\n",
    "    <paper-input label=\"By\" value=\"{{gCol}}\"></paper-input>\n",
    "    <paper-input label=\"Vendor ID\" value=\"{{vid}}\"></paper-input>\n",
    "    <paper-input label=\"Payment Type\" value=\"{{ptype}}\"></paper-input>\n",
    "    <urth-viz-table datarows=\"{{df.data}}\" columns=\"{{df.columns}}\"></urth-viz-table>\n",
    "    <urth-viz-bar datarows=\"{{df.data}}\"></urth-viz-bar>\n",
    "</template>"
   ]
  },
  {
   "cell_type": "code",
   "execution_count": null,
   "metadata": {
    "collapsed": true
   },
   "outputs": [],
   "source": []
  }
 ],
 "metadata": {
  "kernelspec": {
   "display_name": "Python 3",
   "language": "python",
   "name": "python3"
  },
  "language_info": {
   "codemirror_mode": {
    "name": "ipython",
    "version": 3
   },
   "file_extension": ".py",
   "mimetype": "text/x-python",
   "name": "python",
   "nbconvert_exporter": "python",
   "pygments_lexer": "ipython3",
   "version": "3.5.1"
  },
  "widgets": {
   "state": {
    "40F0A6F89A1D4A9B8E2DA23F9580F081": {
     "views": []
    },
    "84961FAD9D994D1084A2A76A6F6D83D7": {
     "views": []
    },
    "992914FAAED24A3486E3623D91571A25": {
     "views": []
    },
    "A5D18E9723A74A63BB990FE9B53A21BA": {
     "views": []
    },
    "AA15BD4995344262A1181704CD6AE239": {
     "views": []
    },
    "E523A5774B044643981D637C8424E6C4": {
     "views": []
    }
   },
   "version": "1.1.0"
  }
 },
 "nbformat": 4,
 "nbformat_minor": 0
}
