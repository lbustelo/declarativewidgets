{
 "cells": [
  {
   "cell_type": "code",
   "execution_count": null,
   "metadata": {
    "collapsed": false
   },
   "outputs": [],
   "source": [
    "%AddDeps com.databricks spark-csv_2.10 1.4.0 --transitive"
   ]
  },
  {
   "cell_type": "code",
   "execution_count": null,
   "metadata": {
    "collapsed": false
   },
   "outputs": [],
   "source": [
    "%AddJar http://localhost:8888/nbextensions/declarativewidgets/urth-widgets.jar"
   ]
  },
  {
   "cell_type": "code",
   "execution_count": null,
   "metadata": {
    "collapsed": true
   },
   "outputs": [],
   "source": [
    "import urth.widgets._\n",
    "initWidgets"
   ]
  },
  {
   "cell_type": "code",
   "execution_count": null,
   "metadata": {
    "collapsed": false
   },
   "outputs": [],
   "source": [
    "%%html\n",
    "<link rel=\"import\" href=\"urth_components/urth-viz-table/urth-viz-table.html\" is=\"urth-core-import\">\n",
    "<link rel=\"import\" href=\"urth_components/urth-viz-bar/urth-viz-bar.html\" is=\"urth-core-import\">\n",
    "<link rel=\"import\" href=\"urth_components/paper-input/paper-input.html\" is='urth-core-import' package='PolymerElements/paper-input'>\n",
    "<link rel=\"import\" href=\"urth_components/paper-spinner/paper-spinner.html\" is='urth-core-import' package='PolymerElements/paper-spinner'>"
   ]
  },
  {
   "cell_type": "markdown",
   "metadata": {},
   "source": [
    "#### Spark DataFrame"
   ]
  },
  {
   "cell_type": "code",
   "execution_count": null,
   "metadata": {
    "collapsed": false
   },
   "outputs": [],
   "source": [
    "val rawFares = sqlContext.read.format(\"com.databricks.spark.csv\").option(\"header\", \"true\").option(\"inferSchema\", \"true\").load(\"demos/tour/fares.csv\")\n",
    "val fares = rawFares.select(rawFares.columns.map( col => rawFares.col(col).as(col.trim())):_*)"
   ]
  },
  {
   "cell_type": "code",
   "execution_count": null,
   "metadata": {
    "collapsed": false
   },
   "outputs": [],
   "source": [
    "%%html\n",
    "<template id=\"t\" is=\"dom-bind\">\n",
    "    <urth-core-dataframe id=\"d\" ref=\"fares\" value=\"{{df}}\" busy=\"{{busy}}\">\n",
    "        <urth-core-query-filter disabled=\"{{!vid}}\">vendor_id = '{{vid}}'</urth-core-query-filter>\n",
    "        <urth-core-query-filter disabled=\"{{!ptype}}\">payment_type = '{{ptype}}'</urth-core-query-filter>\n",
    "        <urth-core-query-group by=\"{{gCol}}\">\n",
    "            <urth-core-query-agg op=\"sum\" col=\"tolls_amount\"></urth-core-query-agg>\n",
    "        </urth-core-query-group>\n",
    "        <urth-core-query-group by=\"sum(total_amount)\" direction=\"desc\">\n",
    "    </urth-core-dataframe>\n",
    "    <paper-input label=\"By\" value=\"{{gCol}}\"></paper-input>\n",
    "    <paper-input label=\"Vendor ID\" value=\"{{vid}}\"></paper-input>\n",
    "    <paper-input label=\"Payment Type\" value=\"{{ptype}}\"></paper-input>\n",
    "    <paper-spinner active=\"{{busy}}\"></paper-spinner>\n",
    "    <urth-viz-table datarows=\"{{df.data}}\" columns=\"{{df.columns}}\"></urth-viz-table>\n",
    "    <urth-viz-bar datarows=\"{{df.data}}\"></urth-viz-bar>\n",
    "</template>"
   ]
  },
  {
   "cell_type": "markdown",
   "metadata": {
    "collapsed": false
   },
   "source": [
    "#### Taxi demo on Scala"
   ]
  },
  {
   "cell_type": "code",
   "execution_count": null,
   "metadata": {
    "collapsed": false
   },
   "outputs": [],
   "source": [
    "%%html\n",
    "<link rel=\"import\" href=\"urth_components/paper-dropdown-menu/paper-dropdown-menu.html\" is='urth-core-import' package='PolymerElements/paper-dropdown-menu'>\n",
    "<link rel=\"import\" href=\"urth_components/paper-menu/paper-menu.html\" is='urth-core-import' package='PolymerElements/paper-menu'>\n",
    "<link rel=\"import\" href=\"urth_components/paper-item/paper-item.html\" is='urth-core-import' package='PolymerElements/paper-item'>\n",
    "<link rel=\"import\" href=\"urth_components/paper-button/paper-button.html\" is='urth-core-import' package='PolymerElements/paper-button'>\n",
    "<link rel=\"import\" href=\"urth_components/paper-card/paper-card.html\" is='urth-core-import' package='PolymerElements/paper-card'>\n",
    "<link rel=\"import\" href=\"urth_components/paper-slider/paper-slider.html\" is='urth-core-import' package='PolymerElements/paper-slider'>\n",
    "\n",
    "<style is=\"custom-style\">\n",
    "    urth-viz-bar::shadow .nv-x .tick text {\n",
    "        display: none;\n",
    "    }\n",
    "</style>"
   ]
  },
  {
   "cell_type": "code",
   "execution_count": null,
   "metadata": {
    "collapsed": false
   },
   "outputs": [],
   "source": [
    "import urth.widgets.WidgetChannels.channel\n",
    "channel(\"faresChan\").set(\"paymentOptions\", List((\"All\", \"\"), (\"Cash\", \"CSH\"), (\"Credit\",\"CRD\")))"
   ]
  },
  {
   "cell_type": "code",
   "execution_count": null,
   "metadata": {
    "collapsed": false
   },
   "outputs": [],
   "source": [
    "%%html\n",
    "<template id=\"earnings\" is=\"urth-core-bind\" channel=\"faresChan\">\n",
    "    <urth-core-dataframe id=\"df\" ref=\"fares\" value=\"{{top}}\" limit=\"{{limit}}\" busy=\"{{busy}}\" refresh-timeout=\"30000\">\n",
    "        <urth-core-query-filter disabled=\"{{!payType}}\">payment_type = '{{payType}}'</urth-core-query-filter>\n",
    "        <urth-core-query-group by=\"medallion\">\n",
    "            <urth-core-query-agg op=\"sum\" col=\"total_amount\"></urth-core-query-agg>\n",
    "        </urth-core-query-group>\n",
    "        <urth-core-query-sort by=\"sum(total_amount)\" direction=\"{{topOrBottom}}\"></urth-core-query-sort>\n",
    "    </urth-core-dataframe>\n",
    "    <paper-card style=\"width: 100%;\" heading=\"Earners\" elevation=\"1\">\n",
    "        <div class=\"card-content\">\n",
    "            <paper-spinner style=\"float:right;\" active=\"{{busy}}\"></paper-spinner>\n",
    "            <paper-dropdown-menu label=\"Select Payment Type\" noink>\n",
    "                <paper-menu class=\"dropdown-content\" selected=\"{{payType}}\" attr-for-selected=\"value\">\n",
    "                    <template is=\"dom-repeat\" items=\"[[paymentOptions]]\">\n",
    "                        <paper-item value=\"[[item.1]]\">[[item.0]]</paper-item>\n",
    "                    </template>\n",
    "                </paper-menu>\n",
    "            </paper-dropdown-menu>\n",
    "            <paper-dropdown-menu label=\"Top or Bottom Earners\" noink>\n",
    "                <paper-menu class=\"dropdown-content\" selected=\"{{topOrBottom}}\" attr-for-selected=\"value\">\n",
    "                    <paper-item value=\"desc\">Top</paper-item>\n",
    "                    <paper-item value=\"asc\">Bottom</paper-item>\n",
    "                </paper-menu>\n",
    "            </paper-dropdown-menu>\n",
    "\n",
    "            <urth-viz-bar datarows=\"{{top.data}}\" selection=\"{{sel}}\" multi-select></urth-viz-bar>\n",
    "            <div class=\"center horizontal layout\">\n",
    "                <div>Limit</div>\n",
    "                <paper-slider min=\"5\" max=\"50\" step=\"5\" pin snap value=\"{{limit}}\"></paper-slider>\n",
    "            </div>\n",
    "        </div>\n",
    "    </paper-card>\n",
    "</template>"
   ]
  }
 ],
 "metadata": {
  "kernelspec": {
   "display_name": "Apache_Toree",
   "language": "",
   "name": "apache_toree"
  },
  "language_info": {
   "name": "scala"
  }
 },
 "nbformat": 4,
 "nbformat_minor": 0
}
