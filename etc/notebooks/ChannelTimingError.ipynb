{
 "cells": [
  {
   "cell_type": "code",
   "execution_count": 1,
   "metadata": {
    "collapsed": false,
    "scrolled": false
   },
   "outputs": [
    {
     "data": {
      "application/javascript": [
       "\n",
       "        window.Urth = window.Urth || {};\n",
       "        Urth._initialized = Urth._initialized || $.Deferred();\n",
       "        Urth.whenReady = Urth.whenReady || function(cb) {\n",
       "            Urth._initialized.then(function() {\n",
       "                Urth.whenReady(cb);\n",
       "            });\n",
       "        };\n",
       "        Urth.whenReady(function() { console.log(\"Declarative widgets connected.\") });\n",
       "        "
      ],
      "text/plain": [
       "<IPython.core.display.Javascript object>"
      ]
     },
     "metadata": {},
     "output_type": "display_data"
    }
   ],
   "source": [
    "from declarativewidgets import init, channel\n",
    "\n",
    "init()\n",
    "\n",
    "channel().set(\"center_lat\",30.4016717)\n",
    "channel().set(\"center_long\",-97.7166573)"
   ]
  },
  {
   "cell_type": "code",
   "execution_count": 2,
   "metadata": {
    "collapsed": false,
    "scrolled": true
   },
   "outputs": [
    {
     "data": {
      "text/html": [
       "<urth-core-channel debug><urth-core-channel>"
      ],
      "text/plain": [
       "<IPython.core.display.HTML object>"
      ]
     },
     "metadata": {},
     "output_type": "display_data"
    }
   ],
   "source": [
    "%%html\n",
    "<urth-core-channel debug><urth-core-channel>"
   ]
  },
  {
   "cell_type": "code",
   "execution_count": null,
   "metadata": {
    "collapsed": true,
    "scrolled": true
   },
   "outputs": [],
   "source": []
  }
 ],
 "metadata": {
  "kernelspec": {
   "display_name": "Python 3",
   "language": "python",
   "name": "python3"
  },
  "language_info": {
   "codemirror_mode": {
    "name": "ipython",
    "version": 3
   },
   "file_extension": ".py",
   "mimetype": "text/x-python",
   "name": "python",
   "nbconvert_exporter": "python",
   "pygments_lexer": "ipython3",
   "version": "3.5.1"
  }
 },
 "nbformat": 4,
 "nbformat_minor": 0
}
